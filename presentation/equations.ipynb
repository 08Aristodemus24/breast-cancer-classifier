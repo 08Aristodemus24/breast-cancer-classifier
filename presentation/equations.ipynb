{
 "cells": [
  {
   "attachments": {},
   "cell_type": "markdown",
   "metadata": {},
   "source": [
    "1. ${\\color{DarkOrange} P_a(t + 1) = \\frac{(c + n_A(t))^\\alpha}{(c + n_A(t))^\\alpha + (c + n_B(t))^\\alpha} = 1 - P_B(t)}$\n",
    "2. ${\\color{Orchid} P_A}$\n",
    "3. ${\\color{Orchid} P_B}$\n",
    "4. ${\\color{DarkOrange} (c + n_B(t))}$\n",
    "5. ${\\color{DarkOrange} (c + n_A(t))}$\n",
    "6. ${\\color{DarkOrange} r \\leq P_A}$\n",
    "7. ${\\color{Orchid} P}$\n",
    "8. ${\\color{Orchid} A}$\n",
    "9. ${\\color{Orchid} B}$\n",
    "10. ${\\color{Orchid} \\tau}$\n",
    "11. ${\\color{Orchid} t}$\n",
    "12. ${\\color{DarkOrange} \\tau_{i,j}(t)}$\n",
    "13. ${\\color{DarkOrange} \\tau_{i,j}(0)}$\n",
    "14. ${\\color{DarkOrange} \\tau_{1,4}(t)}$\n",
    "15. ${\\color{DarkOrange} \\tau_{2,3}(t)}$\n",
    "16. ${\\color{DarkOrange} \\tau_{4,5}(t)}$\n",
    "17. ${\\color{DarkOrange} (i,j)}$\n",
    "18. ${\\color{DarkOrange} L^k(t)}$\n",
    "19. ${\\color{DarkOrange} j\\in\\mathscr{N}^k_i(t)}$\n",
    "20. ${\\color{Orchid} k}$\n",
    "21. ${\\color{DarkOrange} \\mathscr{N}^k_i(t)}$\n",
    "22. ${\\color{DarkOrange} j\\in\\mathscr{N}^k_i(t)}$\n",
    "23. ${\\color{DarkOrange} P^k_{i,j}=\\begin{cases}\\frac{\\tau^\\alpha_{i,j}(t)}{\\sum_{u\\in{\\mathscr{N}^k_{i}(t)}}^{}\\tau^\\alpha_{i,u}(t)} & \\text{ if } j\\in{\\mathscr{N}^k_i}(t) \\\\ 0 & \\text{ otherwise }\\end{cases}}$\n",
    "24. ${\\color{DarkOrange} \\mathscr{N}^{10}_6(1) = \\{1, 2, 3\\}}$\n",
    "25. ${\\color{DarkOrange} \\frac{\\tau^\\alpha_{6,1}(1)}{\\sum_{u\\in{\\mathscr{N}^{10}_6(1)}}^{10}\\tau^\\alpha_{6,u}(1)} }$\n",
    "26. ${\\color{DarkOrange} \\frac{\\tau^\\alpha_{6,1}(1)}{\\tau^\\alpha_{6,1}(1) + \\tau^\\alpha_{6,2}(1) + \\tau^\\alpha_{6,3}(1)} }$\n",
    "27. ${\\color{DarkOrange} \\alpha>0}$\n",
    "28. ${\\color{DarkOrange} k = \\{1, ..., n_k\\}}$\n",
    "29. ${\\color{Orchid} n_k}$\n",
    "\n"
   ]
  },
  {
   "attachments": {},
   "cell_type": "markdown",
   "metadata": {},
   "source": []
  }
 ],
 "metadata": {
  "language_info": {
   "name": "python"
  },
  "orig_nbformat": 4
 },
 "nbformat": 4,
 "nbformat_minor": 2
}
